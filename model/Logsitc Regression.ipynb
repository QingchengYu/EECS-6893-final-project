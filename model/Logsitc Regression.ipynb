{
 "cells": [
  {
   "cell_type": "code",
   "execution_count": 7,
   "id": "5a6cf9a4",
   "metadata": {},
   "outputs": [],
   "source": [
    "import pandas as pd\n",
    "import numpy as np\n",
    "from sklearn.model_selection import train_test_split\n",
    "from sklearn.feature_extraction.text import TfidfVectorizer\n",
    "from sklearn.linear_model import LogisticRegression\n",
    "from sklearn.pipeline import Pipeline"
   ]
  },
  {
   "cell_type": "code",
   "execution_count": 8,
   "id": "2faedc39",
   "metadata": {},
   "outputs": [
    {
     "data": {
      "text/html": [
       "<div>\n",
       "<style scoped>\n",
       "    .dataframe tbody tr th:only-of-type {\n",
       "        vertical-align: middle;\n",
       "    }\n",
       "\n",
       "    .dataframe tbody tr th {\n",
       "        vertical-align: top;\n",
       "    }\n",
       "\n",
       "    .dataframe thead th {\n",
       "        text-align: right;\n",
       "    }\n",
       "</style>\n",
       "<table border=\"1\" class=\"dataframe\">\n",
       "  <thead>\n",
       "    <tr style=\"text-align: right;\">\n",
       "      <th></th>\n",
       "      <th>Unnamed: 0</th>\n",
       "      <th>posts</th>\n",
       "      <th>type</th>\n",
       "    </tr>\n",
       "  </thead>\n",
       "  <tbody>\n",
       "    <tr>\n",
       "      <th>0</th>\n",
       "      <td>0</td>\n",
       "      <td>laptop barrier freeze counsel sibling yay istp...</td>\n",
       "      <td>ENFJ</td>\n",
       "    </tr>\n",
       "    <tr>\n",
       "      <th>1</th>\n",
       "      <td>1</td>\n",
       "      <td>deem rant grateful whats yay butt sarcasm uh b...</td>\n",
       "      <td>ENFJ</td>\n",
       "    </tr>\n",
       "    <tr>\n",
       "      <th>2</th>\n",
       "      <td>2</td>\n",
       "      <td>lover gut sibling aww cash usa submit istp ove...</td>\n",
       "      <td>ENFJ</td>\n",
       "    </tr>\n",
       "    <tr>\n",
       "      <th>3</th>\n",
       "      <td>3</td>\n",
       "      <td>yo radio gut sx cue harmony reminder doms rout...</td>\n",
       "      <td>ENFJ</td>\n",
       "    </tr>\n",
       "    <tr>\n",
       "      <th>4</th>\n",
       "      <td>4</td>\n",
       "      <td>partly sacrifice gf sarcasm attachment escape ...</td>\n",
       "      <td>ENFJ</td>\n",
       "    </tr>\n",
       "  </tbody>\n",
       "</table>\n",
       "</div>"
      ],
      "text/plain": [
       "   Unnamed: 0                                              posts  type\n",
       "0           0  laptop barrier freeze counsel sibling yay istp...  ENFJ\n",
       "1           1  deem rant grateful whats yay butt sarcasm uh b...  ENFJ\n",
       "2           2  lover gut sibling aww cash usa submit istp ove...  ENFJ\n",
       "3           3  yo radio gut sx cue harmony reminder doms rout...  ENFJ\n",
       "4           4  partly sacrifice gf sarcasm attachment escape ...  ENFJ"
      ]
     },
     "execution_count": 8,
     "metadata": {},
     "output_type": "execute_result"
    }
   ],
   "source": [
    "MBTI = pd.read_csv('MBTI_balanced.csv')\n",
    "MBTI.head()"
   ]
  },
  {
   "cell_type": "code",
   "execution_count": 9,
   "id": "40f51ff3",
   "metadata": {},
   "outputs": [],
   "source": [
    "X = MBTI['posts'] # features\n",
    "y = MBTI['type']  # labels\n",
    "X_train, X_test, y_train, y_test = train_test_split(X, y, test_size=0.2)"
   ]
  },
  {
   "cell_type": "code",
   "execution_count": 10,
   "id": "2c2603b4",
   "metadata": {},
   "outputs": [],
   "source": [
    "vectorizer = TfidfVectorizer(analyzer='word', max_features=3000, lowercase=False)\n",
    "X_train_tfidf = vectorizer.fit_transform(X_train.apply(lambda x: np.str_(x)))"
   ]
  },
  {
   "cell_type": "code",
   "execution_count": 11,
   "id": "e1e4f404",
   "metadata": {},
   "outputs": [
    {
     "data": {
      "text/plain": [
       "Pipeline(steps=[('tfidf', TfidfVectorizer()),\n",
       "                ('clf', LogisticRegression(max_iter=1000))])"
      ]
     },
     "execution_count": 11,
     "metadata": {},
     "output_type": "execute_result"
    }
   ],
   "source": [
    "from sklearn.metrics import classification_report\n",
    "\n",
    "text_clf_log = Pipeline([('tfidf',TfidfVectorizer()),('clf',LogisticRegression(max_iter = 1000))])\n",
    "text_clf_log.fit(X_train.apply(lambda x: np.str_(x)), y_train)"
   ]
  },
  {
   "cell_type": "code",
   "execution_count": 12,
   "id": "9d01bf74",
   "metadata": {},
   "outputs": [
    {
     "name": "stdout",
     "output_type": "stream",
     "text": [
      "              precision    recall  f1-score   support\n",
      "\n",
      "        ENFJ       0.98      0.98      0.98      5091\n",
      "        ENFP       0.91      0.90      0.90      4978\n",
      "        ENTJ       0.97      0.96      0.97      4909\n",
      "        ENTP       0.89      0.87      0.88      4971\n",
      "        ESFJ       1.00      1.00      1.00      4953\n",
      "        ESFP       1.00      1.00      1.00      4976\n",
      "        ESTJ       1.00      1.00      1.00      4934\n",
      "        ESTP       0.99      0.99      0.99      4984\n",
      "        INFJ       0.86      0.84      0.85      5111\n",
      "        INFP       0.85      0.84      0.85      5018\n",
      "        INTJ       0.81      0.82      0.82      4902\n",
      "        INTP       0.80      0.84      0.82      5088\n",
      "        ISFJ       0.99      0.99      0.99      5048\n",
      "        ISFP       0.98      0.99      0.98      5039\n",
      "        ISTJ       0.99      0.99      0.99      4939\n",
      "        ISTP       0.98      0.96      0.97      4935\n",
      "\n",
      "    accuracy                           0.94     79876\n",
      "   macro avg       0.94      0.94      0.94     79876\n",
      "weighted avg       0.94      0.94      0.94     79876\n",
      "\n"
     ]
    }
   ],
   "source": [
    "predictions = text_clf_log.predict(X_test.apply(lambda x: np.str_(x)))\n",
    "print(classification_report(y_test, predictions))"
   ]
  },
  {
   "cell_type": "code",
   "execution_count": null,
   "id": "074a4072",
   "metadata": {},
   "outputs": [],
   "source": []
  },
  {
   "cell_type": "code",
   "execution_count": null,
   "id": "6e8cab32",
   "metadata": {},
   "outputs": [],
   "source": []
  },
  {
   "cell_type": "code",
   "execution_count": null,
   "id": "554279ea",
   "metadata": {},
   "outputs": [],
   "source": []
  },
  {
   "cell_type": "code",
   "execution_count": null,
   "id": "c8e1d1ab",
   "metadata": {},
   "outputs": [],
   "source": []
  },
  {
   "cell_type": "code",
   "execution_count": null,
   "id": "7c08bf28",
   "metadata": {},
   "outputs": [],
   "source": []
  },
  {
   "cell_type": "code",
   "execution_count": null,
   "id": "c10a29f3",
   "metadata": {},
   "outputs": [],
   "source": []
  },
  {
   "cell_type": "code",
   "execution_count": null,
   "id": "b22e54c8",
   "metadata": {},
   "outputs": [],
   "source": []
  },
  {
   "cell_type": "code",
   "execution_count": null,
   "id": "a9cef245",
   "metadata": {},
   "outputs": [],
   "source": []
  },
  {
   "cell_type": "code",
   "execution_count": null,
   "id": "94c0e914",
   "metadata": {},
   "outputs": [],
   "source": []
  }
 ],
 "metadata": {
  "kernelspec": {
   "display_name": "Python 3 (ipykernel)",
   "language": "python",
   "name": "python3"
  },
  "language_info": {
   "codemirror_mode": {
    "name": "ipython",
    "version": 3
   },
   "file_extension": ".py",
   "mimetype": "text/x-python",
   "name": "python",
   "nbconvert_exporter": "python",
   "pygments_lexer": "ipython3",
   "version": "3.9.13"
  }
 },
 "nbformat": 4,
 "nbformat_minor": 5
}
